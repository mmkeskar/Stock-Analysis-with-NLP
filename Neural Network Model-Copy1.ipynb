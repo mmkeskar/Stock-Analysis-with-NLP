{
 "cells": [
  {
   "cell_type": "code",
   "execution_count": 1,
   "metadata": {},
   "outputs": [],
   "source": [
    "import numpy as np\n",
    "import tensorflow as tf\n",
    "import csv"
   ]
  },
  {
   "cell_type": "code",
   "execution_count": 2,
   "metadata": {},
   "outputs": [],
   "source": [
    "training_data = np.load(\"training.npz\")"
   ]
  },
  {
   "cell_type": "code",
   "execution_count": 3,
   "metadata": {},
   "outputs": [],
   "source": [
    "# number of inputs\n",
    "input_size = 300\n",
    "# number of outputs\n",
    "output_size = 2\n",
    "# number of hidden layers\n",
    "hidden_layer_size_1 = 2000\n",
    "hidden_layer_size_2 = 1000\n",
    "hidden_layer_size_3 = 500\n",
    "\n",
    "model = tf.keras.Sequential([\n",
    "    tf.keras.layers.Dense(hidden_layer_size_1, activation='relu'), # first hidden layer\n",
    "    tf.keras.layers.Dense(hidden_layer_size_2, activation='relu'), # second hidden layer\n",
    "    tf.keras.layers.Dense(hidden_layer_size_2, activation='relu'), # third hidden layer\n",
    "    tf.keras.layers.Dense(hidden_layer_size_3, activation='relu'), # fourth hidden layer\n",
    "    tf.keras.layers.Dense(hidden_layer_size_2, activation='relu'), # fifth hidden layer\n",
    "    tf.keras.layers.Dense(hidden_layer_size_2, activation='relu'), # sixth hidden layer\n",
    "    tf.keras.layers.Dense(hidden_layer_size_1, activation='relu'), # seventh hidden layer\n",
    "    \n",
    "    tf.keras.layers.Dense(output_size, activation='softmax') # \n",
    "])"
   ]
  },
  {
   "cell_type": "code",
   "execution_count": 4,
   "metadata": {},
   "outputs": [],
   "source": [
    "from tensorflow.keras.callbacks import EarlyStopping\n",
    "es = EarlyStopping(monitor=\"val_loss\", mode=\"min\", patience=8)"
   ]
  },
  {
   "cell_type": "code",
   "execution_count": 5,
   "metadata": {},
   "outputs": [
    {
     "name": "stdout",
     "output_type": "stream",
     "text": [
      "Epoch 1/100\n",
      "32000/32000 - 1386s - loss: 0.4566 - accuracy: 0.7872 - val_loss: 0.5293 - val_accuracy: 0.7418\n",
      "Epoch 2/100\n",
      "32000/32000 - 1411s - loss: 0.4323 - accuracy: 0.8006 - val_loss: 0.5994 - val_accuracy: 0.6942\n",
      "Epoch 3/100\n",
      "32000/32000 - 1449s - loss: 0.4210 - accuracy: 0.8064 - val_loss: 0.6597 - val_accuracy: 0.6489\n",
      "Epoch 4/100\n",
      "32000/32000 - 1424s - loss: 0.4134 - accuracy: 0.8105 - val_loss: 0.6386 - val_accuracy: 0.6771\n",
      "Epoch 5/100\n",
      "32000/32000 - 1403s - loss: 0.4071 - accuracy: 0.8142 - val_loss: 0.6768 - val_accuracy: 0.6490\n",
      "Epoch 6/100\n",
      "32000/32000 - 1400s - loss: 0.4000 - accuracy: 0.8175 - val_loss: 0.5922 - val_accuracy: 0.6902\n",
      "Epoch 7/100\n",
      "32000/32000 - 1394s - loss: 0.3943 - accuracy: 0.8207 - val_loss: 0.8100 - val_accuracy: 0.6603\n",
      "Epoch 8/100\n",
      "32000/32000 - 1390s - loss: 0.3891 - accuracy: 0.8238 - val_loss: 0.6422 - val_accuracy: 0.6805\n",
      "Epoch 9/100\n",
      "32000/32000 - 1392s - loss: 0.3840 - accuracy: 0.8270 - val_loss: 0.7048 - val_accuracy: 0.6332\n"
     ]
    },
    {
     "data": {
      "text/plain": [
       "<tensorflow.python.keras.callbacks.History at 0x176c6fe2d88>"
      ]
     },
     "execution_count": 5,
     "metadata": {},
     "output_type": "execute_result"
    }
   ],
   "source": [
    "model.compile(optimizer='adam', loss='sparse_categorical_crossentropy', metrics=['accuracy'])\n",
    "model.fit(training_data['inputs'], training_data['targets'], validation_split=0.2, \n",
    "          epochs=100, verbose=2, callbacks=[es])"
   ]
  },
  {
   "cell_type": "code",
   "execution_count": 6,
   "metadata": {},
   "outputs": [],
   "source": [
    "test_data = np.load(\"testing.npz\")"
   ]
  },
  {
   "cell_type": "code",
   "execution_count": 7,
   "metadata": {},
   "outputs": [],
   "source": [
    "y_preds = model.predict_on_batch(test_data['inputs'])"
   ]
  },
  {
   "cell_type": "code",
   "execution_count": 8,
   "metadata": {},
   "outputs": [
    {
     "name": "stdout",
     "output_type": "stream",
     "text": [
      "Accuracy: 77.28%\n"
     ]
    }
   ],
   "source": [
    "outputs = []\n",
    "for arr in y_preds:\n",
    "    if arr[0] > arr[1]:\n",
    "        outputs = np.append(outputs, 0)\n",
    "    else:\n",
    "        outputs = np.append(outputs, 1)\n",
    "outputs = outputs.astype(int)\n",
    "validate_array = (outputs == test_data['targets'])\n",
    "print(f\"Accuracy: {(validate_array.sum()/len(validate_array)*100).round(2)}%\")"
   ]
  },
  {
   "cell_type": "code",
   "execution_count": 9,
   "metadata": {},
   "outputs": [
    {
     "name": "stdout",
     "output_type": "stream",
     "text": [
      "WARNING:tensorflow:From C:\\Users\\maitr\\Anaconda3\\envs\\py3-TF2.0\\lib\\site-packages\\tensorflow\\python\\training\\tracking\\tracking.py:111: Model.state_updates (from tensorflow.python.keras.engine.training) is deprecated and will be removed in a future version.\n",
      "Instructions for updating:\n",
      "This property should not be used in TensorFlow 2.0, as updates are applied automatically.\n",
      "WARNING:tensorflow:From C:\\Users\\maitr\\Anaconda3\\envs\\py3-TF2.0\\lib\\site-packages\\tensorflow\\python\\training\\tracking\\tracking.py:111: Layer.updates (from tensorflow.python.keras.engine.base_layer) is deprecated and will be removed in a future version.\n",
      "Instructions for updating:\n",
      "This property should not be used in TensorFlow 2.0, as updates are applied automatically.\n",
      "INFO:tensorflow:Assets written to: Sentiment_predictor\\assets\n"
     ]
    }
   ],
   "source": [
    "model.save(\"Sentiment_predictor\")"
   ]
  },
  {
   "cell_type": "code",
   "execution_count": null,
   "metadata": {},
   "outputs": [],
   "source": []
  }
 ],
 "metadata": {
  "kernelspec": {
   "display_name": "Python 3",
   "language": "python",
   "name": "python3"
  },
  "language_info": {
   "codemirror_mode": {
    "name": "ipython",
    "version": 3
   },
   "file_extension": ".py",
   "mimetype": "text/x-python",
   "name": "python",
   "nbconvert_exporter": "python",
   "pygments_lexer": "ipython3",
   "version": "3.7.9"
  }
 },
 "nbformat": 4,
 "nbformat_minor": 4
}
