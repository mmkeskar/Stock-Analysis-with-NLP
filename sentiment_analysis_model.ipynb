{
 "cells": [
  {
   "cell_type": "markdown",
   "metadata": {},
   "source": [
    "# Semtiment Analysis Model"
   ]
  },
  {
   "cell_type": "markdown",
   "metadata": {},
   "source": [
    "Import packages"
   ]
  },
  {
   "cell_type": "code",
   "execution_count": 1,
   "metadata": {},
   "outputs": [],
   "source": [
    "import numpy as np\n",
    "import pandas as pd\n",
    "import re"
   ]
  },
  {
   "cell_type": "markdown",
   "metadata": {},
   "source": [
    "Load dataset downloaded from https://www.kaggle.com/paoloripamonti/twitter-sentiment-analysis/data"
   ]
  },
  {
   "cell_type": "code",
   "execution_count": 2,
   "metadata": {},
   "outputs": [],
   "source": [
    "sentiment_df = pd.read_csv(\n",
    "    \"database/sentiment_training.zip\",\n",
    "    header=None,\n",
    "    names=[\"emotion\", \"text\"],\n",
    "    usecols=[0, 5],\n",
    "    encoding = \"ISO-8859-1\"\n",
    ")\n",
    "\n",
    "sentiment_df[\"emotion\"] = sentiment_df[\"emotion\"].apply(lambda x: x // 2)\n",
    "sentiment_df = sentiment_df[[\"text\", \"emotion\"]]"
   ]
  },
  {
   "cell_type": "markdown",
   "metadata": {},
   "source": [
    "Clean then tokenize"
   ]
  },
  {
   "cell_type": "code",
   "execution_count": 37,
   "metadata": {},
   "outputs": [],
   "source": [
    "def clean_text(text):\n",
    "    text = re.compile(\"(@[\\w]+|https?://[\\w\\./]+|)\").sub(\"\", text) # Remove @ and urls, keep hashtags\n",
    "    text = re.compile(\"[^\\w]+ \").sub(\" \", text) # Remove puncutations\n",
    "    #text = (\n",
    "    #    re\n",
    "    #    .compile(\"( the | a | an | is | are | was | were | this | that | these | those |'m |'s |'re )\")\n",
    "    #    .sub(\" \", text) # Remove stopwords\n",
    "    #)\n",
    "    return text.lower().strip()"
   ]
  },
  {
   "cell_type": "code",
   "execution_count": 38,
   "metadata": {},
   "outputs": [],
   "source": [
    "sentiment_df = sentiment_df.assign(tokens=sentiment_df[\"text\"].apply(clean_text).apply(lambda text: text.split(\" \")))"
   ]
  },
  {
   "cell_type": "code",
   "execution_count": 40,
   "metadata": {},
   "outputs": [
    {
     "data": {
      "text/plain": [
       "i        6197\n",
       "to       4046\n",
       "my       2265\n",
       "it       1957\n",
       "and      1938\n",
       "in       1541\n",
       "for      1338\n",
       "of       1267\n",
       "you      1127\n",
       "but      1021\n",
       "on        997\n",
       "have      996\n",
       "me        993\n",
       "not       965\n",
       "so        936\n",
       "at        832\n",
       "just      814\n",
       "be        730\n",
       "work      713\n",
       "up        690\n",
       "with      638\n",
       "no        635\n",
       "now       598\n",
       "get       565\n",
       "go        535\n",
       "out       531\n",
       "all       509\n",
       "today     494\n",
       "do        477\n",
       "too       475\n",
       "dtype: int64"
      ]
     },
     "execution_count": 40,
     "metadata": {},
     "output_type": "execute_result"
    }
   ],
   "source": [
    "pd.Series(sentiment_df[\"tokens\"].head(10000).aggregate(\"sum\")).value_counts().head(30)"
   ]
  },
  {
   "cell_type": "code",
   "execution_count": null,
   "metadata": {},
   "outputs": [],
   "source": []
  },
  {
   "cell_type": "code",
   "execution_count": null,
   "metadata": {},
   "outputs": [],
   "source": []
  }
 ],
 "metadata": {
  "kernelspec": {
   "display_name": "Python 3",
   "language": "python",
   "name": "python3"
  },
  "language_info": {
   "codemirror_mode": {
    "name": "ipython",
    "version": 3
   },
   "file_extension": ".py",
   "mimetype": "text/x-python",
   "name": "python",
   "nbconvert_exporter": "python",
   "pygments_lexer": "ipython3",
   "version": "3.7.6"
  }
 },
 "nbformat": 4,
 "nbformat_minor": 4
}
